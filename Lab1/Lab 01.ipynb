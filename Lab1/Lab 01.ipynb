{
 "cells": [
  {
   "cell_type": "markdown",
   "metadata": {},
   "source": [
    "###### Deliverables:  30 total points\n",
    "  - helloMe 4 points\n",
    "  - helloAgain 5 points\n",
    "  - myBio 6 points\n",
    "  - countAT-bugsSoln 9 points\n",
    "  - countNucleotides 6 points\n",
    "     \n",
    "## Due: Monday April 6, 2020 11:55pm \n",
    "## Lab 1 – Introduction to Python (30 points)\n",
    "Work in pairs. Find youself a partner who you will hopefully work with throughout the quarter.\n",
    "Although you are required to turn in independent code and answers yourself, you are encouraged to ask questions and work with each other to solve these exercises. Programming has a lot of area-specific vocabulary and concepts so it is often extremely helpful to ask for help when you run up against hurdles. Make sure to include your partners name as a comment in the first few lines of your program, like this:"
   ]
  },
  {
   "cell_type": "code",
   "execution_count": null,
   "metadata": {},
   "outputs": [],
   "source": [
    "#!/usr/bin/env python3 \n",
    "# Name: Your full name (CATS account username) \n",
    "# Group Members: List full names (CATS usernames) or “None”"
   ]
  },
  {
   "cell_type": "markdown",
   "metadata": {},
   "source": [
    "## Setup your workspace\n",
    "### Install Anaconda on your machine\n",
    "From the machine that you intend to do all of your work for BME 160, go to: https://www.anaconda.com/distribution/\n",
    "From that page, select the Python 3.7 version by using the download button. This may take awhile, depending on your internet connection speed.\n",
    "### Downloading your first notebook\n",
    "The document you are now reading is a jupyter notebook. It is available for download using our class website service Canvas. \n",
    "First we will need to create a folder that you’ll use for this lab. To do this create a folder called bme160 on the desktop.\n",
    "From Canvas :: files :: jupyter, download Lab01.ipynb, and place it into your bme160 folder.\n",
    "\n",
    "There are five programs you will need to write. They are all embedded in Lab01.ipynb as jupyter \"cells\". Make sure to place Lab01.ipynb into your Lab01 folder.\n",
    "### Accessing Jupyter\n",
    "####  Open jupyter\n",
    "\n",
    "There are a number of ways to startup jupyter. Here are a few:\n",
    " -  LocalHost  Open _terminal_ ( located in the utilities folder on MacOS ), then change to the Lab01 directory and startup: jupyter notebook\n",
    " - https://try.jupyter.org you will then need to upload Lab 01.ipynb to that remote server. This server enforces a 10-minute inactivity limit, so you will need to save your work often. Note that this remote server sometimes doesnt run.\n",
    " - Anaconda Navigator. Startup Anaconda, then select: jupyter notebook. From Jupyter, you can then navigate to your Desktop, then to bme160, and then open Lab01.ipynb. That should bring you to a page that looks just like the Lab01 assignment.\n",
    "\n",
    "Try out __jupyter__ by selecting the following cell, then push the \"run\" button in the toolbar above, or pull down the _Cell_ menu above and select Run Cells. Notice that cells that contain runable code start with In [ ]: "
   ]
  },
  {
   "cell_type": "code",
   "execution_count": null,
   "metadata": {},
   "outputs": [],
   "source": [
    "print ('hello Barak')"
   ]
  },
  {
   "cell_type": "markdown",
   "metadata": {},
   "source": [
    "make sure that “hello” is returned.\n",
    "\n",
    "From here on, you will be writing programs. \n",
    "## First python program\n",
    "The hello.py program is one of the first python programs that people write.\n",
    "\n",
    "Documenting code is an important and often overlooked process in software engineering. Don’t fall into the trap of not adding comments to your code! Note, you will not receive full credit on your assignment if your code is not clearly documented. To add comments you use the ’#’ character for single line comments, or you can use triple-quotes (“””) to begin a block of comments and then add another set of triple-quotes to end that block comment.\n",
    "\n",
    "To get an idea of what documenting and comments look like, here is an old-school version of the ’hello.py’ program,  documented:"
   ]
  },
  {
   "cell_type": "code",
   "execution_count": null,
   "metadata": {},
   "outputs": [],
   "source": [
    "#!/usr/bin/env python3\n",
    "# Name: David Bernick (dbernick)\n",
    "# Group Members: John Cleese (jcleese) and Eric Idle (eidle)\n",
    "\n",
    "\"\"\"\n",
    "Print out the string Hello World when run.\n",
    "\"\"\"\n",
    "# remember that strings in python use either single (') or double (\") quotes.\n",
    "print (\"Hello World\")"
   ]
  },
  {
   "cell_type": "markdown",
   "metadata": {},
   "source": [
    "Add your own similar-looking documentation and comments to the the following code, customizing it for yourself, and lets make it print: Hello __your name__ instead. In my case, it would print \"Hello David\""
   ]
  },
  {
   "cell_type": "markdown",
   "metadata": {},
   "source": [
    "## helloMe"
   ]
  },
  {
   "cell_type": "code",
   "execution_count": 15,
   "metadata": {},
   "outputs": [
    {
     "name": "stdout",
     "output_type": "stream",
     "text": [
      "Hello Shweta\n"
     ]
    }
   ],
   "source": [
    "#!/usr/bin/env python3\n",
    "# Name: Shweta Jones(shsujone)\n",
    "# Group Members: Pranav Muthuraman (pmuthura), Sahasra Shankar \n",
    "\n",
    "class Announcer (str): # Announcer is now defined as a kind of python string.\n",
    "    \"\"\"The class takes in a string and outputs a print statements\"\"\"\n",
    "    def printMe (self):\n",
    "        \"\"\"The printMe function takes in a self which is a string, and outputs a print statement\"\"\"\n",
    "        print (self)\n",
    "\n",
    "student = Announcer (\"Hello Shweta\") #sends string to the class \n",
    "student.printMe() #allows for the string to be printed"
   ]
  },
  {
   "cell_type": "markdown",
   "metadata": {},
   "source": [
    "There are a few things to mention about this style of coding. Classes are templates for _objects_. The _announcer_ class is a kind of _string_ class, and we tell python that by including (str) after the name of the class. We have added a method ( printme) to the announcer class, and that method allows objects of class announcer to _print_ themselves. In python, we access data that is saved in an object using the word _self_. Since objects of this class are strings, _self_ refers to the data ('Hello David' in this case). You will notice that python methods are defined using the keyword: def _name_ ( self, parameters)\n",
    "\n",
    "The line: _student = announcer ('Hello David')_ creates a new name (student), of class _announcer_ and it is given a parameter _'Hello David'_. That parameter is given to announcer as its data. Objects of class announcer refer to that data using the name _self_. \n",
    "\n",
    "The line: _student.printme()_ sends a printme() message to the student object, and the student object then prints out its data."
   ]
  },
  {
   "cell_type": "markdown",
   "metadata": {},
   "source": [
    "## Return of “Hello World”\n",
    "We will now take a look at a more sophisticated, second person version of _helloMe_. \n",
    "As currently written, it should ask you to enter a name; you type in the name and then press the _enter_ key (maybe labelled return).\n",
    "\n",
    "The output you should see is:\n",
    "\n",
    "Hi there, I am _name_\n",
    "\n",
    "Look at _helloAgain_ below. You’ll notice that it’s more complex and longer than _helloMe_. \n",
    "Now modify _helloAgain_ so that, in addition to asking for that person’s name, the program also prompts the user for their favorite pet like this:\n",
    "\n",
    "“What is your favorite pet? :”\n",
    "\n",
    "To make this clearer, here are a few lines that belong in your revised _helloAgain_."
   ]
  },
  {
   "cell_type": "code",
   "execution_count": null,
   "metadata": {},
   "outputs": [],
   "source": [
    "name = input( \"What is your name? : \" )\n",
    "pet = input( \"What is your favorite kind of pet? : \")\n",
    "newPerson = person (name, pet)\n",
    "newPerson.introduce()"
   ]
  },
  {
   "cell_type": "markdown",
   "metadata": {},
   "source": [
    "### helloAgain"
   ]
  },
  {
   "cell_type": "code",
   "execution_count": 2,
   "metadata": {
    "scrolled": true
   },
   "outputs": [
    {
     "name": "stdout",
     "output_type": "stream",
     "text": [
      "What is your name? : Shweta Jones\n",
      "What is your favorite kind of pet? : Dog\n",
      "Hi there, I am Shweta Jones, and I like Dogs\n"
     ]
    }
   ],
   "source": [
    "#!/usr/bin/env python3\n",
    "# Name: Shweta Jones(shsujone)\n",
    "# Group Members: Pranav Muthuraman (pmuthura), Sahasra Shankar (sshanka8)\n",
    "\n",
    "class Person:\n",
    "    \"\"\"Inputs: name and pet from main Output: the variables are stored under self and also prints a statement\"\"\"\n",
    "    def __init__(self,name,pet): #initializes the variables\n",
    "        \"\"\"Input: name and pet from the main Output: these variables are stored under self\"\"\"\n",
    "        self.myName = name\n",
    "        self.myPet  = pet   \n",
    "    def introduce (self): #uses the initialized variables to print out the sentence \n",
    "        \"\"\"Input: the self which inclues name and pet Output: Prints out the variables in a statement\"\"\"\n",
    "        print (\"Hi there, I am {0}, and I like {1}s\".format(self.myName,self.myPet))\n",
    "\n",
    "def main ():\n",
    "    \"\"\"Input: 2 variables, name and pet Output: a statement is printed by running the person class\"\"\"\n",
    "    name = input( \"What is your name? : \" ) #stores the input\n",
    "    pet = input( \"What is your favorite kind of pet? : \") #stores the input\n",
    "    newPerson = Person (name, pet) #sends more inputs to the class\n",
    "    newPerson.introduce() #runs the introduce definistion\n",
    "    \n",
    "main ()"
   ]
  },
  {
   "cell_type": "markdown",
   "metadata": {},
   "source": [
    "Your new version of _helloAgain_ should now print something that looks like this: \n",
    "\n",
    "“Hi there, I am _name_ and I like _pets_ !”\n",
    "\n",
    "replacing the italicized text with what the user entered at the command line. Note the statement uses a plural form by appending the letter s, your program should do this too.\n",
    "\n",
    "So, if you decided that your new person is named Fred, and Fred is fond of his pet aardvark, then your program would\n",
    "output:\n",
    "\n",
    "Hi there, I am Fred and I like aardvarks!\n",
    "\n",
    "Remember to save and add documentation/comments to _helloAgain_ ."
   ]
  },
  {
   "cell_type": "markdown",
   "metadata": {},
   "source": [
    "## Brief Biography Program\n",
    "Now that you’ve gotten a little experience programming and seen a few python programs, next you’ll write a program that will do the following:\n",
    "\n",
    "  - Print your full name (first and last)\n",
    "  - Print your CATS/CruzMail username\n",
    "  - Print whether your are an undergraduate or graduate student\n",
    "  - Print your major\n",
    "  - Print why you are taking this class and what you hope to get out of it\n",
    "  - What problem in molecular biology most interests you.\n",
    "  - Print your prior computer programming experience\n",
    "\n",
    "This program should NOT ask the user for this data. This data should be constants in your program. The constants should NOT be part of the person class -- use parameters that are given to your person object when it is instantiated. \n",
    "The name of the program is “myBio” and a sample execution of the program should look something like this:\n",
    "\n",
    "My name is _**David Bernick**_. <br>\n",
    "My username is _**dbernick**_. <br>\n",
    "I am a _**professor**_. <br>\n",
    "My major is _**Bioinformatics and Biomolecular Engineering**_. <br>\n",
    "_**I’m  not taking this class, but I teach it**_. <br>\n",
    "_**I am a synthetic bioengineer and I’m interested in  extreme life, especially hypertherthermophiles and hypersalinophiles, with a focus on small RNA and novel proteins from extreme viruses.**_ <br>\n",
    "I have prior programming experience using _**Python, Perl, Java, Fortran, Pascal, PL/1, ADA, Basic,TPL, APL, Assembly, and C++ (Im not very fond of this though)**_. <br>\n",
    "\n",
    "Each piece of info should occupy only a single line.\n",
    "\n",
    "In order to get full credit, the program must use attributes of the person class for each of the _**emphasized strings**_ above and contain appropriate documentation/comments. \n",
    "\n",
    "Note that in Python, *names* that are part of a class are called *attributes*. Functions that are part of a class are called *methods*. In other languages, *names* are sometimes called *variables*."
   ]
  },
  {
   "cell_type": "markdown",
   "metadata": {},
   "source": [
    "### myBio"
   ]
  },
  {
   "cell_type": "code",
   "execution_count": 13,
   "metadata": {},
   "outputs": [
    {
     "name": "stdout",
     "output_type": "stream",
     "text": [
      "My name is Shweta Jones\n",
      "My username is shsujone\n",
      "I am a student\n",
      "My major is Bioinformatics\n",
      "I am taking this class to understnad python and how it is involved in research\n",
      "I am interest in targeted gene therapy\n",
      "I have prior experience with Java and python\n"
     ]
    }
   ],
   "source": [
    "#!/usr/bin/env python3\n",
    "# Name: Shweta Jones(shsujone)\n",
    "# Group Members: Pranav Muthuraman (pmuthura), Sahasra Shankar (sshanka8)\n",
    "\n",
    "\"\"\"\n",
    "Build a Person object and have it introduce itself.\n",
    "\n",
    "input: a string of arbitrary length, which is used to name the new person object\n",
    "output: greeting printed to screen\n",
    "\"\"\"\n",
    "\n",
    "class Person:\n",
    "    \"\"\" Input:Takes the variables form the main Output:Prints out the bio\"\"\"\n",
    "    def __init__(self, name, username, studentType, major, reason, problem, experience): #initializes all the variables stated in the main\n",
    "        \"\"\" Input: takes in the variables Output: stores variables under self\"\"\"\n",
    "        self.myName = name\n",
    "        self.myUsername = username\n",
    "        self.myStudentType = studentType\n",
    "        self.myMajor = major\n",
    "        self.myReason = reason\n",
    "        self.myProblem = problem\n",
    "        self.myExperience = experience\n",
    "    def introduce (self): #prints the variables \n",
    "        \"\"\" Input:the varibales stored under self Output:Prints out the bio\"\"\"\n",
    "        print (\"My name is {0}\".format(self.myName))\n",
    "        print (\"My username is {0}\".format(self.myUsername))\n",
    "        print (\"I am a {0}\".format(self.myStudentType))\n",
    "        print (\"My major is {0}\".format(self.myMajor))\n",
    "        print (\"{0}\".format(self.myReason))\n",
    "        print (\"{0}\".format(self.myProblem))\n",
    "        print (\"I have prior experience using{0}\".format(self.myExperience))\n",
    "\n",
    "def main (): #makes all the constnat variables\n",
    "    \"\"\" Input: variables entered by the user Output: stores the variables and runs the class person\"\"\"\n",
    "    name = 'Shweta Jones'\n",
    "    username = 'shsujone'\n",
    "    studentType = 'student'\n",
    "    major = 'Bioinformatics and Biomolecular Engineering'\n",
    "    reason = 'I am taking this class to understand python and how it is involved in research'\n",
    "    problem = 'I am interest in targeted gene therapy'\n",
    "    experience = 'Java and python, however, I am not as familiar with python'\n",
    "    bio = Person (name, username, studentType, major, reason, problem, experience) #sends the variables to the Person class\n",
    "    bio.introduce() #runs the program to print the answers \n",
    "\n",
    "main ()\n",
    "    "
   ]
  },
  {
   "cell_type": "markdown",
   "metadata": {},
   "source": [
    "## Debug buggy code\n",
    "Practice makes us better; usually debugging makes code closer to perfect. \n",
    "This program is supposed to ask the user to enter a DNA sequence and then output the AT content of the sequence— total number of As and Ts divided by the sequence length—as a fraction of the total sequence length (a number between 0 and 1).\n",
    "\n",
    "For example, given the string:\n",
    "\n",
    "AAAATGAATGGCTAACTTTTGAA\n",
    "\n",
    "the program should output: (make sure that you pay attention to the number of significant digits in the output!)\n",
    "\n",
    "AT content = 0.739\n",
    "\n",
    "Unfortunately there are a few bugs in the program. Your task is to identify and correct those bugs. This part of the assignment is to help familiarize you with the debugging process. It is possible to identify the bugs without using any of the following techniques just by looking over the program, but this will be good practice and will be essential when your code gets more complex.\n",
    "\n",
    "To debug countAT-bugs.py, run the program, which will produce an error. Figure out what the error is and correct the code. It’s likely that after you correct the first error you will notice another error. Repeat this process until you fix all the bugs and the program runs properly.\n",
    "\n",
    "Save a corrected copy of the program called countAT-bugsSoln.py that includes: \n",
    "  - Documentation and comments\n",
    "  - A program overview that includes how many bugs you found and what lines from the original file they were found at."
   ]
  },
  {
   "cell_type": "markdown",
   "metadata": {},
   "source": [
    "## countAT-bugs"
   ]
  },
  {
   "cell_type": "markdown",
   "metadata": {},
   "source": [
    "## Counting DNA Letters \n",
    "Now that you are inspired by your ability to debug the countAT-bugs code, let's create a new program that will ask the user to enter a DNA sequence and then output the total sequence length and \n",
    "the number of each base {total As, Cs, Gs, Ts} found in the sequence. \n",
    "For example, given the string:\n",
    "\n",
    "AAAATGAATGGCTAACTTTTGAA\n",
    "\n",
    "the program should output:\n",
    "\n",
    "Your sequence is 23 nucleotides long with the following breakdown of bases:\n",
    "\n",
    "number As = 10\n",
    "number Cs = 2\n",
    "number Gs = 4\n",
    "number Ts = 7\n",
    "\n",
    "Write a program called countNucleotides (put it below) that will take in a DNA sequence entered by a user and produce the outputs specified above. Note that \"specified\" means ... \"required\"\n",
    "\n",
    "To get full credit on this assignment, your code needs to:\n",
    "\n",
    "  * Run properly\n",
    "  * Contain documentation/comments\n",
    "  * Include an overview about what your program is designed to do with expected inputs and outputs. Use a MarkDown Cell to write your overview."
   ]
  },
  {
   "cell_type": "code",
   "execution_count": 18,
   "metadata": {},
   "outputs": [
    {
     "name": "stdout",
     "output_type": "stream",
     "text": [
      "Enter a dna sequence: a g\n",
      "AT content = 0.500\n"
     ]
    }
   ],
   "source": [
    "#!/usr/bin/env python3\n",
    "# Name: Shweta Jones(shsujone)\n",
    "# Group Members: Pranav Muthuraman (pmuthura), Sahasra Shankar (sshanka8)\n",
    "\n",
    "class dnaString (str):\n",
    "    \"\"\" Input:the string from the program Output:stores it within the class\"\"\"\n",
    "    #for this code, the length function wasn't necessary since the length code counted spaces which I didn't want\n",
    "        \n",
    "    def getAT (self):\n",
    "        \"\"\" Input:the stored string Output:value obtained when the AT is divided by the total number of nucleotides\"\"\"\n",
    "        num_A = self.count('A') #changed A to 'A'\n",
    "        num_T = self.count('T') #changed \"T\" to 'T', but this is more to maintain the same syntax otherwise this isn't a mistake\n",
    "        num_C = self.count('C') \n",
    "        num_G = self.count('G')\n",
    "        total = int(num_A) + int(num_T) + int(num_C) + int(num_G) #these three codes were added to count the total number of nucleotides in the dna sequence without including spaces or other characters\n",
    "        return ((num_A + num_T)/ total ) #changes .len to .length because dnaString never defined len\n",
    "\n",
    "dna = input(\"Enter a dna sequence: \")\n",
    "upperDNA = dna.upper() #makes everything uppercase\n",
    "coolString = dnaString(upperDNA)\n",
    "print (\"AT content = {0:0.3f}\".format(coolString.getAT()) ) #changed 0.1 to 0.3 to have 3 sigfigs\n",
    "\n",
    "#There were a total of 7 bugs in the program"
   ]
  },
  {
   "cell_type": "markdown",
   "metadata": {},
   "source": [
    "### countNucleotides"
   ]
  },
  {
   "cell_type": "code",
   "execution_count": 16,
   "metadata": {},
   "outputs": [
    {
     "name": "stdout",
     "output_type": "stream",
     "text": [
      "Enter a dna sequence: AAAATGAATGGCTAACTTTTGAA\n",
      "Your sequence is 23 nucleotides long with the following breakdown of bases:\n",
      "number As = 10 number Cs = 2 number Gs = 4 number Ts = 7\n"
     ]
    }
   ],
   "source": [
    "#!/usr/bin/env python3\n",
    "# Name: Shweta Jones(shsujone)\n",
    "# Group Members: Pranav Muthuraman (pmuthura), Sahasra Shankar (sshanka8)\n",
    "\n",
    "class Values:\n",
    "    def __init__ (self, length, numA, numC, numG, numT): #initializes the variables\n",
    "        \"\"\" Input:takes in the variables gathered by the main class Output:initilizes the variables under self\"\"\"\n",
    "        self.length = length\n",
    "        self.numA = numA\n",
    "        self.numT = numT\n",
    "        self.numC = numC\n",
    "        self.numG = numG\n",
    "    def prints (self): #prints the values into a string\n",
    "        \"\"\" Input: the self which contains all the variables Output:prints out the statements which includes the number of nucleotides\"\"\"\n",
    "        print (\"Your sequence is {0} nucleotides long with the following breakdown of bases:\".format(self.length))\n",
    "        print (\"number As = {0} number Cs = {1} number Gs = {2} number Ts = {3}\".format(self.numA, self.numC, self.numG, self.numT))\n",
    "\n",
    "def main ():\n",
    "    \"\"\" Input: the input is the dna sequence entered by the user Output: runs the values class and prints out the number of each nucleotide\"\"\"\n",
    "    dna = input(\"Enter a dna sequence: \") #stores the input into a variable\n",
    "    length = (len(dna)) #inputs length is determined\n",
    "    numA = dna.count('A') #number of A,T,C,G are calculates\n",
    "    numC = dna.count('C')\n",
    "    numG = dna.count('G')\n",
    "    numT = dna.count('T')\n",
    "    \n",
    "    answer = Values(length, numA, numC, numG, numT) #runs the Values class using following values\n",
    "    answer.prints() #allows for the prints to run \n",
    "\n",
    "main ()\n",
    "\n",
    "# The expected input is a string of nucleotides and the expected output is the total number of nucleotides in the sequence and the number of A, T, C, and G within the nucleotide sequence"
   ]
  },
  {
   "cell_type": "markdown",
   "metadata": {},
   "source": [
    "## Submit your code and answers\n",
    "Important: please save your work before logging out of the computer. This will ensure that you have a copy of your work and you will avoid having to redo everything in the event that something happens. The two recommended solutions (pick one) at this point are to:\n",
    "\n",
    "  - Email your jupyter notebook to yourself\n",
    "  - Copy your notebook to a pen drive\n",
    "  \n",
    "The class will be using canvas to submit the notebook created as part of this lab assignment.\n",
    "\n",
    "For this lab, you should upload your notebook with the following cells filled in\n",
    "\n",
    "  * helloMe 4 points\n",
    "  * helloAgain 5 points\n",
    "  * myBio 6 points\n",
    "  * countAT-bugsSoln 9 points\n",
    "  * countNucleotides 6 points \n",
    "\n",
    "Important: to get full credit on this lab assignment, everything needs to\n",
    "\n",
    "  * Run properly\n",
    "  * Contain informative documentation/comment, including your name and your partner\n",
    "  * be your own work\n",
    "\n",
    "Congratulations, you finished your first lab assignment!"
   ]
  },
  {
   "cell_type": "code",
   "execution_count": null,
   "metadata": {},
   "outputs": [],
   "source": []
  }
 ],
 "metadata": {
  "kernelspec": {
   "display_name": "Python 3",
   "language": "python",
   "name": "python3"
  },
  "language_info": {
   "codemirror_mode": {
    "name": "ipython",
    "version": 3
   },
   "file_extension": ".py",
   "mimetype": "text/x-python",
   "name": "python",
   "nbconvert_exporter": "python",
   "pygments_lexer": "ipython3",
   "version": "3.7.6"
  }
 },
 "nbformat": 4,
 "nbformat_minor": 2
}
